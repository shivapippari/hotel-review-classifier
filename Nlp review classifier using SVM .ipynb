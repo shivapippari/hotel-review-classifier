{
 "cells": [
  {
   "cell_type": "markdown",
   "metadata": {},
   "source": [
    "## Importing the basic libraries"
   ]
  },
  {
   "cell_type": "code",
   "execution_count": 1,
   "metadata": {},
   "outputs": [
    {
     "name": "stderr",
     "output_type": "stream",
     "text": [
      "[nltk_data] Error loading stopwords: <urlopen error [WinError 10054]\n",
      "[nltk_data]     An existing connection was forcibly closed by the\n",
      "[nltk_data]     remote host>\n"
     ]
    }
   ],
   "source": [
    "import pandas as pd\n",
    "import re\n",
    "import nltk\n",
    "nltk.download('stopwords')\n",
    "from nltk.corpus import stopwords\n",
    "from nltk.stem.porter import PorterStemmer"
   ]
  },
  {
   "cell_type": "markdown",
   "metadata": {},
   "source": [
    "## Importing the data set"
   ]
  },
  {
   "cell_type": "code",
   "execution_count": 2,
   "metadata": {
    "scrolled": false
   },
   "outputs": [
    {
     "name": "stdout",
     "output_type": "stream",
     "text": [
      "                                                Review  Liked\n",
      "0                             Wow... Loved this place.      1\n",
      "1                                   Crust is not good.      0\n",
      "2            Not tasty and the texture was just nasty.      0\n",
      "3    Stopped by during the late May bank holiday of...      1\n",
      "4    The selection on the menu was great and so wer...      1\n",
      "..                                                 ...    ...\n",
      "995  I think food should have flavor and texture an...      0\n",
      "996                           Appetite instantly gone.      0\n",
      "997  Overall I was not impressed and would not go b...      0\n",
      "998  The whole experience was underwhelming, and I ...      0\n",
      "999  Then, as if I hadn't wasted enough of my life ...      0\n",
      "\n",
      "[1000 rows x 2 columns]\n"
     ]
    }
   ],
   "source": [
    "df = pd.read_csv('Restaurant_Reviews.tsv', delimiter='\\t', quoting=3)\n",
    "print(df)"
   ]
  },
  {
   "cell_type": "markdown",
   "metadata": {},
   "source": [
    "## Refining the data"
   ]
  },
  {
   "cell_type": "code",
   "execution_count": 3,
   "metadata": {},
   "outputs": [],
   "source": [
    "corpus = [] "
   ]
  },
  {
   "cell_type": "code",
   "execution_count": 4,
   "metadata": {},
   "outputs": [
    {
     "name": "stdout",
     "output_type": "stream",
     "text": [
      "183\n",
      "['i', 'me', 'my', 'myself', 'we', 'our', 'ours', 'ourselves', 'you', \"you're\", \"you've\", \"you'll\", \"you'd\", 'your', 'yours', 'yourself', 'yourselves', 'he', 'him', 'his', 'himself', 'she', \"she's\", 'her', 'hers', 'herself', 'it', \"it's\", 'its', 'itself', 'they', 'them', 'their', 'theirs', 'themselves', 'what', 'which', 'who', 'whom', 'this', 'that', \"that'll\", 'these', 'those', 'am', 'is', 'are', 'was', 'were', 'be', 'been', 'being', 'have', 'has', 'had', 'having', 'do', 'does', 'did', 'doing', 'a', 'an', 'the', 'and', 'but', 'if', 'or', 'because', 'as', 'until', 'while', 'of', 'at', 'by', 'for', 'with', 'about', 'against', 'between', 'into', 'through', 'during', 'before', 'after', 'above', 'below', 'to', 'from', 'up', 'down', 'in', 'out', 'on', 'off', 'over', 'under', 'again', 'further', 'then', 'once', 'here', 'there', 'when', 'where', 'why', 'how', 'all', 'any', 'both', 'each', 'few', 'more', 'most', 'other', 'some', 'such', 'nor', 'only', 'own', 'same', 'so', 'than', 'too', 'very', 's', 't', 'can', 'will', 'just', 'don', \"don't\", 'should', \"should've\", 'now', 'd', 'll', 'm', 'o', 're', 've', 'y', 'ain', 'aren', \"aren't\", 'couldn', \"couldn't\", \"didn't\", 'doesn', \"doesn't\", 'hadn', \"hadn't\", 'hasn', \"hasn't\", 'haven', \"haven't\", 'isn', \"isn't\", 'ma', 'mightn', \"mightn't\", 'mustn', \"mustn't\", 'needn', \"needn't\", 'shan', \"shan't\", 'shouldn', \"wasn't\", \"weren't\", \"won't\", 'wouldn', \"wouldn't\", 'order', 'waited', 'bland', 'still', 'place', 'feel', 'buffet', 'food', 'burger', 'kitchen', 'salad']\n"
     ]
    }
   ],
   "source": [
    "for i in range(0,1000):\n",
    "    review = df['Review'][i] \n",
    "    review = re.sub('[^a-zA-z]', ' ', review) # replacing the punctuations with space\n",
    "    review = review.lower() \n",
    "    review = review.split() \n",
    "    ps = PorterStemmer() # creating the object of the porter stemmer class\n",
    "    all_stopwords = stopwords.words('english') # collecting the english language stop words\n",
    "    arr=['not','no','didn',\"shouldn't\",'wasn','weren','won',]\n",
    "    for i in arr:\n",
    "        all_stopwords.remove(i)\n",
    "    all_stopwords.append('order')\n",
    "    all_stopwords.append('waited')\n",
    "    all_stopwords.append(\"bland\")\n",
    "    all_stopwords.append('still')\n",
    "    all_stopwords.append('place')\n",
    "    all_stopwords.append('feel')\n",
    "    all_stopwords.append('buffet')\n",
    "    all_stopwords.append('food')\n",
    "    all_stopwords.append('burger')\n",
    "    all_stopwords.append('kitchen')\n",
    "    all_stopwords.append('salad')\n",
    "    review =[ps.stem(word) for word in review if not word in set(all_stopwords)]\n",
    "    # coverting the list of words back to statement\n",
    "    review = ' '.join(review)\n",
    "    corpus.append(review) # collecting the refined reviews\n",
    "def ob2(ip):\n",
    "    ip=ip.lower()\n",
    "    ip=ip.split()\n",
    "    ip =[ps.stem(word) for word in ip if not word in set(all_stopwords)]\n",
    "    ip=' '.join(ip)\n",
    "    return ip\n",
    "print(len(all_stopwords))\n",
    "print(all_stopwords)"
   ]
  },
  {
   "cell_type": "code",
   "execution_count": 5,
   "metadata": {
    "scrolled": false
   },
   "outputs": [
    {
     "name": "stdout",
     "output_type": "stream",
     "text": [
      "['wow love', 'crust not good', 'not tasti textur nasti', 'stop late may bank holiday rick steve recommend love', 'select menu great price', 'get angri want damn pho', 'honeslti didn tast fresh', 'potato like rubber could tell made ahead time kept warmer', 'fri great', 'great touch', 'servic prompt', 'would not go back', 'cashier no care ever say end wayyy overpr', 'tri cape cod ravoli chicken cranberri mmmm', 'disgust pretti sure human hair', 'shock no sign indic cash', 'highli recommend', 'waitress littl slow servic', 'not worth time let alon vega', 'not like', 'burritto blah', 'amaz', 'servic also cute', 'could care less interior beauti', 'perform', 'right red velvet cake ohhh stuff good', 'never brought ask', 'hole wall great mexican street taco friendli staff', 'took hour get tabl restaur luke warm sever run around like total overwhelm', 'worst salmon sashimi', 'also combo like fri beer decent deal', 'like final blow', 'found accid could not happier', 'seem like good quick grab bite familiar pub favor look elsewher', 'overal like lot', 'redeem qualiti restaur inexpens', 'ampl portion good price', 'poor servic waiter made like stupid everi time came tabl', 'first visit hiro delight', 'servic suck', 'shrimp tender moist', 'not deal good enough would drag establish', 'hard judg whether side good gross melt styrofoam didn want eat fear get sick', 'posit note server attent provid great servic', 'frozen puck disgust worst peopl behind regist', 'thing like prime rib dessert section', 'bad damn gener', 'good beef cook right', 'want sandwich go firehous', 'side greek greek dress tasti pita hummu refresh', 'order duck rare pink tender insid nice char outsid', 'came run us realiz husband left sunglass tabl', 'chow mein good', 'horribl attitud toward custom talk one custom enjoy', 'portion huge', 'love friendli server great wonder imagin menu', 'heart attack grill downtown vega absolut flat line excus restaur', 'not much seafood like string pasta bottom', 'right amount sauc not power scallop perfectli cook', 'rip banana not rip petrifi tasteless', 'least think refil water struggl wave minut', 'receiv star appet', 'cocktail handmad delici', 'definit go back', 'glad found', 'great servic huge portion give militari discount', 'alway great time do gringo', 'updat went back second time amaz', 'got appar never heard salt batter fish chewi', 'great way finish great', 'deal includ tast drink jeff went beyond expect', 'realli realli good rice time', 'servic meh', 'took min get milkshak noth chocol milk', 'guess known would suck insid excalibur didn use common sens', 'scallop dish quit appal valu well', 'time bad custom servic', 'sweet potato fri good season well', 'today second time lunch pretti good', 'much good vega cheat wast eat opportun go rice compani', 'come like experienc underwhelm relationship parti wait person ask break', 'walk smell like old greas trap other eat', 'turkey roast beef', '', 'pan cake everyon rave tast like sugari disast tailor palat six year old', 'love pho spring roll oh yummi tri', 'poor batter meat ratio made chicken tender unsatisfi', 'say amaz', 'omelet die', 'everyth fresh delici', 'summari larg disappoint dine experi', 'like realli sexi parti mouth outrag flirt hottest person parti', 'never hard rock casino never ever step forward', 'best breakfast', 'say bye bye tip ladi', 'never go', 'back', 'arriv quickli', 'not good', 'side cafe serv realli good', 'server fantast found wife love roast garlic bone marrow ad extra meal anoth marrow go', 'good thing waiter help kept bloddi mari come', 'best town price cannot beat', 'love mussel cook wine reduct duck tender potato dish delici', 'one better buffet', 'went tigerlilli fantast afternoon', 'delici bartend attent person got great deal', 'ambienc wonder music play', 'go back next trip', 'sooooo good', 'real sushi lover let honest yama not good', 'least min pass us order arriv wasn busi', 'realli fantast thai restaur definit worth visit', 'nice spici tender', 'good price', 'check', 'pretti gross', 'better atmospher', 'kind hard mess steak', 'although much like look sound actual experi bit disappoint', 'know manag serv blandest ever eaten prepar indian cuisin', 'worst servic boot least worri', 'servic fine waitress friendli', 'guy steak steak love son steak best worst place said best steak ever eaten', 'thought ventur away get good sushi realli hit spot night', 'host staff lack better word bitch', 'not like number reason want wast time bad review leav', 'phenomen servic ambianc', 'return', 'definit worth ventur strip pork belli return next time vega', 'way overpr mediocr', 'penn vodka excel', 'good select includ massiv meatloaf sandwich crispi chicken wrap delish tuna melt tasti burger', 'manag rude', 'delici nyc bagel good select cream chees real lox caper even', 'great subway fact good come everi subway not meet expect', 'serious solid breakfast', 'one best bar vega', 'extrem rude realli mani restaur would love dine weekend vega', 'drink never empti made realli great menu suggest', '', 'waiter wasn help friendli rare check us', 'husband ate lunch disappoint servic', 'red curri much bamboo shoot wasn tasti', 'nice blanket moz top like done cover subpar', 'bathroom clean well decor', 'menu alway chang qualiti go servic extrem slow', 'servic littl slow consid serv peopl server come slow pace', 'give thumb', 'watch waiter pay lot attent tabl ignor us', 'fianc came middl day greet seat right away', 'great restaur mandalay bay', 'forti five minut vain', 'crostini came stale', 'highlight great qualiti nigiri', 'staff friendli joint alway clean', 'differ cut piec day wonder tender well well flavor', 'order voodoo pasta first time realli excel pasta sinc go gluten free sever year ago', 'good', 'unfortun must hit bakeri leftov day everyth order stale', 'came back today sinc reloc not impress', 'seat immedi', 'menu divers reason price', 'avoid cost', 'restaur alway full never wait', 'delici', 'hand one best place eat phoenix metro area', 'go look good', 'never treat bad', 'bacon hella salti', 'also order spinach avocado ingredi sad dress liter zero tast', 'realli vega fine dine use right menu hand ladi no price list', 'waitress friendli', 'lordi khao soi dish not miss curri lover', 'everyth menu terrif also thrill made amaz accommod vegetarian daughter', 'perhap caught night judg review not inspir go back', 'servic leav lot desir', 'atmospher modern hip maintain touch cozi', 'not weekli haunt definit come back everi', 'liter sat minut no one ask take', 'absolut no flavor meat total overcook no charcoal flavor', 'also decid not send back waitress look like verg heart attack', 'dress treat rude', 'probabl dirt', 'love hit spot want someth healthi not lack quantiti flavor', 'order lemon raspberri ice cocktail also incred', 'suck expect suck could imagin', 'interest decor', 'realli like crepe station', 'also serv hot bread butter home made potato chip bacon bit top origin good', 'watch prepar delici', 'egg roll fantast', 'arriv one gyro miss', 'wing ice cream dessert left feel quit satisfi', 'not realli sure joey vote best hot dog valley reader phoenix magazin', 'best go tasti bowl pho', 'live music friday total blow', 'never insult felt disrespect', 'friendli staff', 'worth drive', 'heard good thing exceed everi hope could dream', 'great serivc', 'warm beer didn help', 'great brunch spot', 'servic friendli invit', 'good lunch spot', 'live sinc first last time step foot', 'worst experi ever', 'must night', 'side delish mix mushroom yukon gold pure white corn beateou', 'bug never show would given sure side wall bug climb', 'minut wait realiz wasn come time soon', 'friend love salmon tartar', 'won go back', 'extrem tasti', 'waitress good though', 'soggi not good', 'jamaican mojito delici', 'small not worth price', 'rich accordingli', 'shower area outsid rins not take full shower unless mind nude everyon see', 'servic bit lack', 'lobster bisqu bussel sprout risotto filet need salt pepper cours none tabl', 'hope bode go busi someon cook come', 'either cold not enough flavor bad', 'love bacon wrap date', 'unbeliev bargain', 'folk otto alway make us welcom special', 'main also uninspir', 'first pho amaz', 'wonder experi made must stop whenev town', 'bad enough enjoy deal world worst annoy drunk peopl', 'fun chef', 'order doubl cheeseburg got singl patti fall apart pictur upload yeah suck', 'great coupl drink watch sport event wall cover tv', 'possibl give zero star', 'descript said yum yum sauc anoth said eel sauc yet anoth said spici mayo well none roll sauc', 'say would hardest decis honestli dish tast suppos tast amaz', 'not roll eye may stay not sure go back tri', 'everyon attent provid excel custom servic', 'horribl wast time money', 'dish quit flavour', 'time side restaur almost empti no excus', 'wasn busi either also build freez cold', 'like review said pay eat', 'drink took close minut come one point', 'serious flavor delight folk', 'much better ayc sushi went vega', 'light dark enough set mood', 'base sub par servic receiv no effort show gratitud busi won go back', 'owner realli great peopl', 'noth privileg work eat', 'greek dress creami flavor', 'overal think would take parent made similar complaint silent felt', 'pizza good peanut sauc tasti', 'tabl servic pretti fast', 'fantast servic', 'well would given godfath zero star possibl', 'know make', 'tough short flavor', 'hope stick around', 'bar vega not ever recal charg tap water', 'restaur atmospher exquisit', 'good servic clean inexpens boot', 'seafood fresh gener portion', 'plu buck', 'servic not par either', 'thu far visit twice absolut delici time', 'good year ago', 'self proclaim coffe cafe wildli disappoint', 'veggitarian platter world', 'cant go wrong', 'beat', 'stop madison ironman friendli kind staff', 'chef friendli good job', 'better not dedic boba tea spot even jenni pho', 'like patio servic outstand', 'goat taco didn skimp meat wow flavor', 'think not', 'mac pretti not get', 'went bachi friend recommend not disappoint', 'servic stink', '', 'not qualiti sushi not qualiti restaur', 'would definit recommend wing well pizza', 'great pizza salad', 'thing went wrong burn saganaki', 'hour breakfast could done time better home', 'amaz', 'hate disagre fellow yelper husband disappoint', 'hour never got either pizza mani around us came later', 'know slow', 'staff great delish incred beer select', 'live neighborhood disappoint won back conveni locat', 'didn know pull pork could soooo delici', 'get incred fresh fish prepar care', 'go gave star rate pleas know third time eat bachi write review', 'love fact everyth menu worth', 'never dine', 'excel servic good', 'good beer drink select good select', 'pleas stay away shrimp stir fri noodl', 'potato chip sad could probabl count mani chip box probabl around', 'realli bore', 'good servic check', 'greedi corpor never see anoth dime', 'never ever go back', 'much like go back get pass atroci servic never return', 'summer dine charm outdoor patio delight', 'not expect good', 'fantast', 'order toast english muffin came untoast', 'good', 'never go back', 'great price high qualiti hous made', 'bu boy hand rude', 'point friend basic figur joke didn mind make publicli loudli known', 'back good bbq lighter fare reason price tell public back old way', 'consid two us left full happi go wrong', 'bread made hous', 'downsid servic', 'also fri without doubt worst fri ever', 'servic except good review', 'coupl month later return amaz meal', 'favorit town shawarrrrrrma', 'black eye pea sweet potato unreal', 'won disappoint', 'could serv vinaigrett may make better overal dish good', 'go far mani place never seen restaur serv egg breakfast especi', 'mom got home immedi got sick bite', 'server not pleasant deal alway honor pizza hut coupon', 'truli unbeliev good glad went back', 'fantast servic pleas atmospher', 'everyth gross', 'love', 'great servic', 'first bathroom locat dirti seat cover not replenish plain yucki', 'got gold standard kind disappoint', 'omg delicioso', 'noth authent', 'spaghetti noth special whatsoev', 'dish salmon best great', 'veget fresh sauc feel like authent thai', 'worth drive tucson', 'select probabl worst seen vega none', 'pretti good beer select', 'like chipotl better', 'classi warm atmospher fun fresh appet succul steak basebal steak', 'star brick oven bread app', 'eaten multipl time time delici', 'sat anoth ten minut final gave left', 'terribl', 'everyon treat equal special', 'take min pancak egg', 'delici', 'good side staff genuin pleasant enthusiast real treat', 'sadli gordon ramsey steak shall sharpli avoid next trip vega', 'alway even wonder delici', 'best fish ever life', 'bathroom next door nice', 'small offer', 'outstand littl restaur best ever tast', 'pretti cool would say', 'definit turn doubt back unless someon els buy', 'server great job handl larg rowdi tabl', 'find wast despic wasn', 'wife lobster bisqu soup lukewarm', 'would come back sushi crave vega', 'staff great ambianc great', 'deserv star', 'left stomach ach felt sick rest day', 'drop ball', 'dine space tini elegantli decor comfort', 'custom way like usual eggplant green bean stir fri love', 'bean rice mediocr best', 'best taco town far', 'took back money got outta', 'interest part town amaz', 'rude inconsider manag', 'staff not friendli wait time serv horribl no one even say hi first minut', 'won back', 'great dinner', 'servic outshin definit recommend halibut', 'terribl', 'never ever go back told mani peopl happen', 'recommend unless car break front starv', 'come back everi time vega', 'deserv one star', 'disgrac', 'def come back bowl next time', 'want healthi authent ethic tri', 'continu come ladi night andddd date night highli recommend anyon area', 'sever time past experi alway great', 'walk away stuf happi first vega experi', 'servic excel price pretti reason consid vega locat insid crystal shop mall aria', 'summar incred nay transcend noth bring joy quit like memori pneumat condiment dispens', 'probabl one peopl ever go ian not like', 'kid pizza alway hit lot great side dish option kiddo', 'servic perfect famili atmospher nice see', 'cook perfect servic impecc', 'one simpli disappoint', 'overal disappoint qualiti bouchon', 'account know get screw', 'great eat remind littl mom pop shop san francisco bay area', 'today first tast buldogi gourmet hot dog tell ever thought possibl', 'left frustrat', 'definit soon', 'realli good got full petti fast', 'servic fantast', 'total wast time', 'know kind best ice tea', 'come hungri leav happi stuf', 'servic give no star', 'assur won disappoint', 'take littl bad servic suck', 'gave tri eat crust teeth sore', 'complet gross', 'realli enjoy eat', 'first time go think quickli becom regular', 'server nice even though look littl overwhelm need stay profession friendli end', 'dinner companion told everyth fresh nice textur tast', 'ground right next tabl larg smear step track everywher pile green bird poop', 'furthermor even find hour oper websit', 'tri like time think done', 'mistak', 'no complaint', 'serious good pizza expert connisseur topic', 'waiter jerk', 'strike want rush', 'nicest restaur owner ever come across', 'never come', 'love biscuit', 'servic quick friendli', 'order appet took minut pizza anoth minut', 'absolutley fantast', 'huge awkward lb piec cow th gristl fat', 'definit come back', 'like steiner dark feel like bar', 'wow spici delici', 'not familiar check', 'take busi dinner dollar elsewher', 'love go back', 'anyway fs restaur wonder breakfast lunch', 'noth special', 'day week differ deal delici', 'not mention combin pear almond bacon big winner', 'not back', 'sauc tasteless', 'delici spici enough sure ask spicier prefer way', 'ribey steak cook perfectli great mesquit flavor', 'think go back anytim soon', 'gooodd', 'far sushi connoisseur definit tell differ good bad certainli bad', 'insult', 'last time lunch bad', 'chicken wing contain driest chicken meat ever eaten', 'good enjoy everi mouth enjoy relax venu coupl small famili group etc', 'nargil think great', 'best tater tot southwest', 'love', 'definit not worth paid', 'vanilla ice cream creami smooth profiterol choux pastri fresh enough', 'im az time new spot', 'manag worst', 'insid realli quit nice clean', 'outstand price reason', 'think run back carli anytim soon', 'due fact took minut acknowledg anoth minut get kept forget thing', 'love margarita', 'first vega not disappoint', 'good though', 'one note ventil could use upgrad', 'great pork sandwich', 'wast time', 'total letdown would much rather go camelback flower shop cartel coffe', 'third chees friend cold', 'enjoy pizza brunch', 'steak well trim also perfectli cook', 'group claim would handl us beauti', 'love', 'ask bill leav without eat didn bring either', 'jewel la vega exactli hope find nearli ten year live', 'seafood limit boil shrimp crab leg crab leg definit not tast fresh', 'select not best', 'delici absolut back', 'small famili restaur fine dine establish', 'toro tartar cavier extraordinari like thinli slice wagyu white truffl', 'dont think back long time', 'attach ga station rare good sign', 'awesom', 'back mani time soon', 'menu much good stuff could not decid', 'wors humili worker right front bunch horribl name call', 'conclus fill meal', 'daili special alway hit group', 'tragedi struck', 'pancak also realli good pretti larg', 'first crawfish experi delici', 'monster chicken fri steak egg time favorit', 'waitress sweet funni', 'also tast mom multi grain pumpkin pancak pecan butter amaz fluffi delici', 'rather eat airlin serious', 'cant say enough good thing', 'ambianc incred', 'waitress manag friendli', 'would not recommend', 'overal wasn impress noca', 'gyro basic lettuc', 'terribl servic', 'thoroughli disappoint', 'much pasta love homemad hand made pasta thin pizza', 'give tri happi', 'far best cheesecurd ever', 'reason price also', 'everyth perfect night', 'good typic bar', 'drive get', 'first glanc love bakeri cafe nice ambianc clean friendli staff', 'anyway not think go back', 'point finger item menu won disappoint', 'oh thing beauti restaur', 'gone go', 'greasi unhealthi meal', 'first time might last', 'burger amaz', 'similarli deliveri man not say word apolog minut late', 'way expens', 'sure dessert even need pack go tiramisu cannoli die', 'first time wait next', 'bartend also nice', 'everyth good tasti', 'two thumb way', 'best vega breakfast check sat sun', 'love authent mexican want whole bunch interest yet delici meat choos need tri', 'terribl manag', 'excel new restaur experienc frenchman', 'zero star would give zero star', 'great steak great side great wine amaz dessert', 'worst martini ever', 'steak shrimp opinion best entre gc', 'opportun today sampl amaz pizza', 'thirti minut seat although vacant tabl folk wait', 'yellowtail carpaccio melt mouth fresh', 'won tri go back even empti', 'no go eat potato found stranger hair', 'spici enough perfect actual', 'last night second time dine happi decid go back', 'not even hello right', 'dessert bit strang', 'boyfriend came first time recent trip vega could not pleas qualiti servic', 'realli recommend go wrong donut', 'nice ambianc', 'would recommend save room', 'guess mayb went night disgrac', 'howev recent experi particular locat not good', 'know not like restaur someth', 'avoid establish', 'think restaur suffer not tri hard enough', 'tapa dish delici', 'heart', 'vinegrett babi green heart palm', 'two felt disgust', 'good time', 'believ great stop huge belli hanker sushi', 'gener portion great tast', 'never go back never ever recommend anyon', 'server went back forth sever time not even much help', 'delici', 'hour serious', 'consid theft', 'eew locat need complet overhaul', 'recent wit poor qualiti manag toward guest well', '', 'also came back check us regularli excel servic', 'server super nice check us mani time', 'pizza tast old super chewi not good way', 'swung give tri deepli disappoint', 'servic good compani better', 'staff also friendli effici', 'servic fan quick serv nice folk', 'boy sucker dri', 'rate', 'look authent thai go els', 'steak recommend', 'pull car anoth minut acknowledg', 'great great servic clean friendli set', 'assur back', 'hate thing much cheap qualiti black oliv', 'breakfast perpar great beauti present giant slice toast lightli dust powder sugar', 'kid play area nasti', 'great fo take eat', 'waitress friendli happi accomod vegan veggi option', 'omg felt like never eaten thai dish', 'extrem crumbi pretti tasteless', 'pale color instead nice char no flavor', 'crouton also tast homemad extra plu', 'got home see driest damn wing ever', 'regular stop trip phoenix', 'realli enjoy crema caf expand even told friend best breakfast', 'not good money', 'miss wish one philadelphia', 'got sit fairli fast end wait minut anoth minut arriv', 'also best chees crisp town', 'good valu great great servic', 'ask satisfi meal', 'good', 'awesom', 'want leav', 'made drive way north scottsdal not one bit disappoint', 'not eat', 'owner realli realli need quit soooooo cheap let wrap freak sandwich two paper not one', 'check coupl year ago not impress', 'chicken got definit reheat ok wedg cold soggi', 'sorri not get anytim soon', 'absolut must visit', 'cow tongu cheek taco amaz', 'friend not like bloodi mari', 'despit hard rate busi actual rare give star', 'realli want make experi good one', 'not return', 'chicken pho tast', 'disappoint', 'grill chicken tender yellow saffron season', 'drive thru mean not want wait around half hour somehow end go make us wait wait', 'pretti awesom', 'ambienc perfect', 'best luck rude non custom servic focus new manag', 'grandmoth make roast chicken better one', 'ask multipl time wine list time ignor went hostess got one', 'staff alway super friendli help especi cool bring two small boy babi', 'four star guy blue shirt great vibe let us eat', 'roast beef sandwich tast realli good', 'even drastic sick', 'high qualiti chicken chicken caesar', 'order rare came done', 'promptli greet seat', 'tri go lunch madhous', 'proven dead wrong sushi bar not qualiti great servic fast impecc', 'wait hour seat not greatest mood', 'good joint', 'macaron insan good', 'not eat', 'waiter attent friendli inform', 'mayb weren cold would somewhat edibl', 'lot promis fail deliv', 'bad experi', 'mistak', 'averag best', 'great', 'won go back anytim soon', 'disappoint order big bay plater', 'great relax awesom beer', 'perfect sit famili meal get togeth friend', 'not much flavor poorli construct', 'patio seat comfort', 'fri rice dri well', 'hand favorit italian restaur', 'scream legit book somethat also pretti rare vega', 'not fun experi', 'atmospher great love duo violinist play song request', 'person love hummu pita baklava falafel baba ganoush amaz eggplant', 'conveni sinc stay mgm', 'owner super friendli staff courteou', 'great', 'eclect select', 'sweet potato tot good onion ring perfect close', 'staff attent', 'chef gener time even came around twice take pictur', 'owner use work nobu realli similar half price', 'googl mediocr imagin smashburg pop', 'dont go', 'promis won disappoint', 'sushi lover avoid mean', 'great doubl cheeseburg', 'awesom servic', 'fantast neighborhood gem', 'wait go back', 'plantain worst ever tast', 'great highli recommend', 'servic slow not attent', 'gave star give star', 'staff spend time talk', 'dessert panna cotta amaz', 'good great atmospher', 'damn good steak', 'total brunch fail', 'price reason flavor spot sauc home made slaw not drench mayo', 'decor nice piano music soundtrack pleasant', 'steak amaz rge fillet relleno best seafood plate ever', 'good good servic', 'absolut amaz', 'probabl won back honest', 'definit back', 'sergeant pepper beef sandwich auju sauc excel sandwich well', 'hawaiian breez mango magic pineappl delight smoothi tri far good', 'went lunch servic slow', 'much say walk expect amaz quickli disappoint', 'mortifi', 'needless say never back', 'anyway definit not fill price pay expect', 'chip came drip greas mostli not edibl', 'wasn realli impress strip steak', 'go sinc everi meal awesom', 'server nice attent serv staff', 'cashier friendli even brought', 'work hospit industri paradis valley refrain recommend cibo longer', 'atmospher fun', 'would not recommend other', 'servic quick even go order like like', 'mean realli get famou fish chip terribl', 'said mouth belli quit pleas', 'not thing', 'thumb', 'read pleas go', 'love grill pizza remind legit italian pizza', 'pro larg seat area nice bar area great simpl drink menu best brick oven pizza homemad dough', 'realli nice atmospher', 'tonight elk filet special suck', 'one bite hook', 'order old classic new dish go time sore disappoint everyth', 'cute quaint simpl honest', 'chicken delici season perfect fri outsid moist chicken insid', 'great alway compliment chef', 'special thank dylan recommend yummi tummi', 'awesom select beer', 'great awesom servic', 'one nice thing ad gratuiti bill sinc parti larger didn expect tip', 'fli appl juic fli', 'han nan chicken also tasti', 'servic thought good', 'bare lukewarm must sit wait server bring us', 'ryan bar definit one edinburgh establish won revisit', 'nicest chines restaur', 'overal like servic', 'also serv indian naan bread hummu spici pine nut sauc world', 'probabl never come back recommend', 'friend pasta also bad bare touch', 'tri airport experi tasti speedi friendli servic', 'love decor chines calligraphi wall paper', 'never anyth complain', 'restaur clean famili restaur', 'way fri', 'not sure long stood long enough begin awkwardli', 'open sandwich impress not good way', 'not back', 'warm feel servic felt like guest special treat', 'extens menu provid lot option breakfast', 'alway vegetarian menu dinner wide array option choos', 'watch price inflat portion get smaller manag attitud grow rapidli', 'wonder lil tapa ambienc made warm fuzzi insid', 'got enjoy seafood fabul vinegrett', 'wonton thin not thick chewi almost melt mouth', 'level spici perfect spice didn whelm soup', 'sat right time server get go fantast', 'main thing didn enjoy crowd older crowd around mid', 'side town definit spot hit', 'wait minut get drink longer get arepa', 'great eat', 'jalapeno bacon soooo good', 'servic poor that nice', 'good servic good price good', 'not clean oh stale', 'chicken dish ok beef like shoe leather', 'servic beyond bad', 'happi', 'tast like dirt', 'one place phoenix would defin go back', 'block amaz', 'close hous low key non fanci afford price good', 'hot sour egg flower soup absolut star', 'sashimi poor qualiti soggi tasteless', 'great time famili dinner sunday night', 'not tasti not say real tradit hunan style', 'bother slow servic', 'flair bartend absolut amaz', 'frozen margarita way sugari tast', 'good order twice', 'nutshel restaraunt smell like combin dirti fish market sewer', 'girlfriend veal bad', 'unfortun not good', 'pretti satifi experi', 'join club get awesom offer via email', 'perfect someon like beer ice cold case even colder', 'flavorless good way describ bare tepid meat', 'chain no fan beat easili', 'nacho must', 'not come back', 'mani word say everyth pretti well', 'staff super nice quick even crazi crowd downtown juri lawyer court staff', 'great atmospher friendli fast servic', 'receiv pita huge lot meat thumb', 'arriv meh', 'pay hot dog fri look like came kid meal wienerschnitzel not idea good meal', 'classic main lobster roll fantast', 'brother law work mall ate day guess sick night', 'good go review twice herea tribut tribut event held last night', 'chip salsa realli good salsa fresh', 'great', 'mediocr', 'get insid impress', 'super pissd', 'servic super friendli', 'sad littl veget overcook', 'nice surpris', 'golden crispi delici', 'high hope sinc burger cook charcoal grill unfortun tast fell flat way flat', 'could eat bruschetta day devin', 'not singl employe came see ok even need water refil final serv us', 'lastli mozzarella stick best thing order', 'first time ever came amaz experi tell peopl awesom duck', 'server neglig need made us unwelcom would not suggest', 'servic terribl though', 'overpr not consist boba realli overpr', 'pack', 'love', 'say dessert yummi', 'terribl', 'season fruit fresh white peach pure', 'kept get wors wors offici done', 'honestli blown', 'definit would not eat', 'not wast money', 'love put nice plastic contain oppos cram littl paper takeout box', 'cr pe delic thin moist', 'aw servic', 'won ever go', 'qualiti horribl', 'price think would much rather gone', 'servic fair best', 'love sushi found kabuki price hip servic', 'favor stay away dish', 'poor servic', 'no one tabl thought averag worth wait', 'best servic ever maria server good friendli made day', 'excel', 'paid bill not tip felt server terribl job', 'lunch great experi', 'never surpris consid articl read focus much spice flavor', 'way overpr portion fuck small', 'recent tri caballero back everi week sinc', 'buck head realli expect better', 'came good pace', 'ate twice last visit especi enjoy salmon', 'won back', 'could not believ dirti oyster', 'deserv no star', 'would not recommend', 'fact go round star awesom', 'disbelief dish qualifi worst version food ever tast', 'bad day not low toler rude custom servic peopl job nice polit wash dish otherwis', 'potato great biscuit', 'probabl would not go', 'flavor perfect amount heat', 'price reason servic great', 'wife hate meal coconut shrimp friend realli not enjoy meal either', 'fella got huevo ranchero didn look appeal', 'went happi hour great list wine', 'may say pricey think get pay get quit lot', 'probabl won come back', 'worst servic', 'pretti good nice littl vibe restaur', 'talk great custom servic cours back', 'hot dish not hot cold dish close room temp watch staff prepar bare hand no glove everyth deep fri oil', 'love fri bean', 'alway pleasur deal', 'plethora salad sandwich everyth tri get seal approv', 'awesom want someth light healthi summer', 'sushi strip go', 'servic great even manag came help tabl', 'dine room colleg cook cours high class dine servic slow best', 'start review two star edit give one', 'worst sushi ever eat besid costco', 'excel restaur highlight great servic uniqu menu beauti set', 'boyfriend sat bar complet delight experi', 'weird vibe owner', 'hardli meat', 'better bagel groceri store', 'go gyro', 'love owner chef one authent japanes cool dude', 'burger good pizza use amaz doughi flavorless', 'found six inch long piec wire salsa', 'servic terribl mediocr', 'defin enjoy', 'order albondiga soup warm tast like tomato soup frozen meatbal', 'three differ occas ask well done medium well three time got bloodiest piec meat plate', 'two bite refus eat anymor', 'servic extrem slow', 'minut wait got tabl', 'serious killer hot chai latt', 'no allergi warn menu waitress absolut no clue meal not contain peanut', 'boyfriend tri mediterranean chicken fell love', 'rotat beer tap also highlight', 'price bit concern mellow mushroom', 'worst thai ever', 'stay vega must get breakfast least', 'want first say server great perfect servic', 'pizza select good', 'strawberri tea good', 'highli unprofession rude loyal patron', 'overal great experi', 'spend money elsewher', 'regular toast bread equal satisfi occasion pat butter mmmm', 'bellagio far anticip', 'drink weak peopl', 'not correct', 'also like chip bought not made hous', 'disappoint dinner went elsewher dessert', 'chip sal amaz', 'won return', 'new fav vega spot', 'serious cannot believ owner mani unexperienc employe run around like chicken head cut', 'sad', 'felt insult disrespect could talk judg anoth human like', 'call steakhous properli cook steak understand', 'not impress concept', 'thing wasn crazi guacamol like pur ed', 'realli noth postino hope experi better', 'got poison', 'brought fresh batch fri think yay someth warm no', 'hilari yummi christma eve dinner rememb biggest fail entir trip us', 'needless say won go back anytim soon', 'disgust', 'everi time eat see care teamwork profession degre', 'ri style calamari joke', 'howev much garlic fondu bare edibl', 'could bare stomach meal didn complain busi lunch', 'bad lost heart finish', 'also took forev bring us check ask', 'one make scene restaur get definit lost love one', 'disappoint experi', 'par denni say not good', 'want wait mediocr downright terribl servic', 'waaaaaayyyyyyyyyi rate say', 'won go back', 'fairli clean simpli wasn worth', 'lack style', 'sangria half glass wine full ridicul', 'bother come', 'meat pretti dri slice brisket pull pork', 'build seem pretti neat bathroom pretti trippi eat', 'equal aw', 'probabl not hurri go back', 'slow seat even reserv', 'not good stretch imagin', 'cashew cream sauc veget undercook', 'chipolt ranch dip saus tasteless seem thin water no heat', 'bit sweet not realli spici enough lack flavor', 'disappoint', 'horribl way overpr', 'mayb vegetarian fare twice thought averag best', 'wasn busi know', 'tabl outsid also dirti lot time worker not alway friendli help menu', 'ambianc not like set douchey indoor garden tea biscuit', 'con spotti servic', 'fri not hot neither', 'came back cold', 'came disappoint ensu', 'real disappoint waiter', 'husband said rude not even apolog bad anyth', 'reason eat would fill night bing drink get carb stomach', 'insult profound deuchebaggeri go outsid smoke break serv solidifi', 'someon order two taco think may part custom servic ask combo ala cart', 'quit disappoint although blame need place door', 'rave review wait eat disappoint', 'del taco pretti nasti avoid possibl', 'not hard make decent hamburg', 'like', 'hell no go back', 'gotten much better servic pizza next door servic receiv restaur', 'know big deal won back ya', 'immedi said want talk manag not want talk guy shot firebal behind bar', 'ambianc much better', 'unfortun set us disapppoint entre', 'wasn good', 'server suck wait correct server heimer suck', 'happen next pretti put', 'bad caus know famili own realli want like', 'overpr get', 'vomit bathroom mid lunch', 'kept look time soon becom minut yet no', 'place eat no circumst would ever return top list', 'start tuna sashimi brownish color obvious wasn fresh', 'averag', 'sure beat nacho movi would expect littl bit come restaur', 'ha long bay bit flop', 'problem charg sandwich no bigger subway sub offer better amount veget', 'shrimp unwrap live mile brushfir liter ice cold', 'lack flavor seem undercook dri', 'realli impress close', 'would avoid stay mirag', 'refri bean came meal dri crusti', 'spend money time els', 'ladi tabl next us found live green caterpillar', 'present aw', 'tell disappoint', 'think flavor textur lack', 'appetit instantli gone', 'overal not impress would not go back', 'whole experi underwhelm think go ninja sushi next time', 'wast enough life pour salt wound draw time took bring check']\n"
     ]
    }
   ],
   "source": [
    "print(corpus)"
   ]
  },
  {
   "cell_type": "markdown",
   "metadata": {},
   "source": [
    "## creating bag of words"
   ]
  },
  {
   "cell_type": "code",
   "execution_count": 6,
   "metadata": {},
   "outputs": [
    {
     "data": {
      "text/plain": [
       "1568"
      ]
     },
     "execution_count": 6,
     "metadata": {},
     "output_type": "execute_result"
    }
   ],
   "source": [
    "from sklearn.feature_extraction.text import CountVectorizer\n",
    "cv = CountVectorizer(max_features=1600)\n",
    "# using the max_feature parameter of countVectorizer to limit the number of columns in x\n",
    "z = cv.fit(corpus)\n",
    "x=cv.transform(corpus).toarray()\n",
    "y = df.iloc[:,-1].values\n",
    "len(x[0])"
   ]
  },
  {
   "cell_type": "markdown",
   "metadata": {},
   "source": [
    "## splitting x and y into training and test set"
   ]
  },
  {
   "cell_type": "code",
   "execution_count": 7,
   "metadata": {},
   "outputs": [],
   "source": [
    "from sklearn.model_selection import train_test_split\n",
    "x_tr,x_te,y_tr,y_te = train_test_split(x,y,test_size = 0.2, random_state = 0)"
   ]
  },
  {
   "cell_type": "markdown",
   "metadata": {},
   "source": [
    "## creating and training the svm model"
   ]
  },
  {
   "cell_type": "code",
   "execution_count": 8,
   "metadata": {},
   "outputs": [
    {
     "name": "stdout",
     "output_type": "stream",
     "text": [
      "0.985\n"
     ]
    }
   ],
   "source": [
    "from sklearn.svm import SVC\n",
    "from sklearn.metrics import plot_confusion_matrix, accuracy_score\n",
    "classifier = SVC(kernel='linear', random_state=0)\n",
    "classifier.fit(x_tr,y_tr)\n",
    "yt = classifier.predict(x_tr)\n",
    "acc1=accuracy_score(y_tr,yt)\n",
    "print(acc1)"
   ]
  },
  {
   "cell_type": "code",
   "execution_count": 9,
   "metadata": {},
   "outputs": [],
   "source": [
    "# predicting the output\n",
    "y_pr = classifier.predict(x_te)"
   ]
  },
  {
   "cell_type": "code",
   "execution_count": 10,
   "metadata": {},
   "outputs": [
    {
     "name": "stderr",
     "output_type": "stream",
     "text": [
      "C:\\Users\\pippa\\Downloads\\anaconda\\lib\\site-packages\\sklearn\\utils\\deprecation.py:87: FutureWarning: Function plot_confusion_matrix is deprecated; Function `plot_confusion_matrix` is deprecated in 1.0 and will be removed in 1.2. Use one of the class methods: ConfusionMatrixDisplay.from_predictions or ConfusionMatrixDisplay.from_estimator.\n",
      "  warnings.warn(msg, category=FutureWarning)\n"
     ]
    },
    {
     "name": "stdout",
     "output_type": "stream",
     "text": [
      "0.875\n"
     ]
    },
    {
     "data": {
      "image/png": "[encoded data removed]",
      "text/plain": [
       "<Figure size 640x480 with 2 Axes>"
      ]
     },
     "metadata": {},
     "output_type": "display_data"
    }
   ],
   "source": [
    "# plotting the confusion matrix and accuracy score\n",
    "from sklearn.metrics import plot_confusion_matrix, accuracy_score\n",
    "plot_confusion_matrix(estimator=classifier,X=x_te, y_true=y_te)\n",
    "acc = accuracy_score(y_te,y_pr)\n",
    "print(acc)"
   ]
  },
  {
   "cell_type": "code",
   "execution_count": 12,
   "metadata": {},
   "outputs": [
    {
     "name": "stdout",
     "output_type": "stream",
     "text": [
      "Please give your feedback: food is excellent\n",
      "\n",
      "Thank you !! visit again.\n"
     ]
    }
   ],
   "source": [
    "b=input('Please give your feedback: ')\n",
    "s=ob2(b)\n",
    "f=[]\n",
    "f.append(s)\n",
    "d=cv.transform(f).toarray()\n",
    "c = classifier.predict(d)\n",
    "print()\n",
    "if c[0]==1:\n",
    "    print('Thank you !! visit again.')\n",
    "else:\n",
    "    print('We regret for the inconvenience caused , and hope to serve you better next time!!!! ')"
   ]
  },
  {
   "cell_type": "code",
   "execution_count": null,
   "metadata": {},
   "outputs": [],
   "source": []
  },
  {
   "cell_type": "code",
   "execution_count": null,
   "metadata": {},
   "outputs": [],
   "source": []
  },
  {
   "cell_type": "code",
   "execution_count": null,
   "metadata": {},
   "outputs": [],
   "source": []
  }
 ],
 "metadata": {
  "kernelspec": {
   "display_name": "Python 3 (ipykernel)",
   "language": "python",
   "name": "python3"
  },
  "language_info": {
   "codemirror_mode": {
    "name": "ipython",
    "version": 3
   },
   "file_extension": ".py",
   "mimetype": "text/x-python",
   "name": "python",
   "nbconvert_exporter": "python",
   "pygments_lexer": "ipython3",
   "version": "3.9.13"
  },
  "varInspector": {
   "cols": {
    "lenName": 16,
    "lenType": 16,
    "lenVar": 40
   },
   "kernels_config": {
    "python": {
     "delete_cmd_postfix": "",
     "delete_cmd_prefix": "del ",
     "library": "var_list.py",
     "varRefreshCmd": "print(var_dic_list())"
    },
    "r": {
     "delete_cmd_postfix": ") ",
     "delete_cmd_prefix": "rm(",
     "library": "var_list.r",
     "varRefreshCmd": "cat(var_dic_list()) "
    }
   },
   "types_to_exclude": [
    "module",
    "function",
    "builtin_function_or_method",
    "instance",
    "_Feature"
   ],
   "window_display": false
  }
 },
 "nbformat": 4,
 "nbformat_minor": 4
}
